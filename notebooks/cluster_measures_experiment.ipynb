{
 "cells": [
  {
   "cell_type": "code",
   "execution_count": 1,
   "metadata": {
    "pycharm": {
     "is_executing": true
    }
   },
   "outputs": [],
   "source": [
    "import pandas as pd\n",
    "import numpy as np\n",
    "import os"
   ]
  },
  {
   "cell_type": "code",
   "execution_count": 2,
   "metadata": {
    "pycharm": {
     "name": "#%%\n"
    }
   },
   "outputs": [],
   "source": [
    "os.chdir('../')"
   ]
  },
  {
   "cell_type": "code",
   "execution_count": 3,
   "metadata": {},
   "outputs": [],
   "source": [
    "from mc_hammer.cluster_measures import cvnn_sep, scatter, radial_density,dataset_midpoint_dist, dataset_meancenter_dist\n",
    "from mc_hammer.cluster_measures import mean_center_dist,max_center_dist,max_diam, mean_max_diam,mean_all\n",
    "from mc_hammer.similarity_functions import IGP, sillhouette_euclidean\n",
    "from mc_hammer.circular_cluster_generator import generate_data\n",
    "from mc_hammer.clustering_algorithms import k_means"
   ]
  },
  {
   "cell_type": "code",
   "execution_count": 4,
   "metadata": {},
   "outputs": [],
   "source": [
    "def gouss_dist(dim,seed_n):\n",
    "    seed(seed_n)\n",
    "    std = uniform(0.1,0.3)\n",
    "    null_arr = np.array([np.random.normal(1,std,100) for i in range(dim)])\n",
    "    return null_arr.T"
   ]
  },
  {
   "cell_type": "markdown",
   "metadata": {},
   "source": [
    "## Parameters"
   ]
  },
  {
   "cell_type": "code",
   "execution_count": 5,
   "metadata": {},
   "outputs": [],
   "source": [
    "clusters = [2,3,4]\n",
    "dim = [5,10,20]\n",
    "sep = [0.5,1,3]\n",
    "noise = [0,0.2,0.5]"
   ]
  },
  {
   "cell_type": "markdown",
   "metadata": {},
   "source": [
    "## Uniform Distribution"
   ]
  },
  {
   "cell_type": "code",
   "execution_count": 11,
   "metadata": {},
   "outputs": [],
   "source": [
    "uni_dis = {'uni_dis_dim_' +str(i):[np.random.rand(300,i) for j in range(100)] for i in dim}\n",
    "uni_dis = {k+ '_k_'+str(i):{\n",
    "    'x':v,\n",
    "    'labs':[k_means(j,i) for j in v]} for k,v in uni_dis.items() for i in clusters}\n",
    "uni_dis = {k:{\n",
    "    'x':v['x'],\n",
    "    'labs':[i[0] for i in v['labs']],\n",
    "    'centers':[j[1] for j in v['labs']]} for k,v in uni_dis.items()\n",
    "}"
   ]
  },
  {
   "cell_type": "markdown",
   "metadata": {},
   "source": [
    "## Gaussian Distribution"
   ]
  },
  {
   "cell_type": "code",
   "execution_count": null,
   "metadata": {},
   "outputs": [],
   "source": [
    "gauss_dis = {'gauss_dis_dim_' +str(i):[np.random.rand(300,i) for j in range(100)] for i in dim}\n",
    "gauss_dis = {k+ '_k_'+str(i):{\n",
    "    'x':v,\n",
    "    'labs':[k_means(j,i) for j in v]} for k,v in gauss_dis.items() for i in clusters}\n",
    "gauss_dis = {k:{\n",
    "    'x':v['x'],\n",
    "    'labs':[i[0] for i in v['labs']],\n",
    "    'centers':[j[1] for j in v['labs']]} for k,v in gauss_dis.items()\n",
    "}"
   ]
  },
  {
   "cell_type": "code",
   "execution_count": 20,
   "metadata": {},
   "outputs": [
    {
     "data": {
      "text/plain": [
       "array([[0.5145165 , 0.23009032, 0.42505247, 0.50006046, 0.45480441],\n",
       "       [0.48947077, 0.72805749, 0.53639509, 0.47205882, 0.58700378]])"
      ]
     },
     "execution_count": 20,
     "metadata": {},
     "output_type": "execute_result"
    }
   ],
   "source": [
    "uni_dis['uni_dist_dim_5_k_2']['centers'][0]"
   ]
  },
  {
   "cell_type": "markdown",
   "metadata": {},
   "source": [
    "## Circle Clusters"
   ]
  },
  {
   "cell_type": "code",
   "execution_count": null,
   "metadata": {},
   "outputs": [],
   "source": [
    "circle_dis_equal = {'circ_dis_equal_dim_'+ str(i) + '_k_' +str(j) + '_sep_' + str(m) + '_noise_' +str(n):[generate_data(\n",
    "    k = i,\n",
    "    dimx = j,\n",
    "    sep = m,\n",
    "    n = 300,\n",
    "    sd =np.random.uniform(0.5,3),\n",
    "    se = y,\n",
    "    noise = n\n",
    ") for y in range(100)] for i in clusters for j in dim for m in sep for n in noise}"
   ]
  },
  {
   "cell_type": "code",
   "execution_count": null,
   "metadata": {},
   "outputs": [],
   "source": [
    "circle_dis_equal = {k:{\n",
    "    'x':[i[0] for i in v],\n",
    "    'labs':[i[1] for i in v],\n",
    "    'centers':[i[2] for i in v]\n",
    "} for k,v in circle_dis_equal.items()}"
   ]
  }
 ],
 "metadata": {
  "kernelspec": {
   "display_name": "Python 3 (ipykernel)",
   "language": "python",
   "name": "python3"
  },
  "language_info": {
   "codemirror_mode": {
    "name": "ipython",
    "version": 3
   },
   "file_extension": ".py",
   "mimetype": "text/x-python",
   "name": "python",
   "nbconvert_exporter": "python",
   "pygments_lexer": "ipython3",
   "version": "3.9.6"
  }
 },
 "nbformat": 4,
 "nbformat_minor": 1
}