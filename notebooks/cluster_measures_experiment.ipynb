{
 "cells": [
  {
   "cell_type": "code",
   "execution_count": 1,
   "metadata": {
    "pycharm": {
     "is_executing": true
    }
   },
   "outputs": [],
   "source": [
    "import pandas as pd\n",
    "import numpy as np\n",
    "import os\n",
    "import re\n",
    "from sklearn.datasets import make_classification"
   ]
  },
  {
   "cell_type": "code",
   "execution_count": 2,
   "metadata": {
    "pycharm": {
     "name": "#%%\n"
    }
   },
   "outputs": [],
   "source": [
    "os.chdir('../')"
   ]
  },
  {
   "cell_type": "code",
   "execution_count": 3,
   "metadata": {},
   "outputs": [],
   "source": [
    "from mc_hammer.cluster_measures import cvnn_sep, scatter, radial_density,dataset_midpoint_dist, dataset_meancenter_dist\n",
    "from mc_hammer.cluster_measures import mean_center_dist,max_center_dist,max_diam, mean_max_diam,mean_all\n",
    "from mc_hammer.similarity_functions import IGP, sillhouette_euclidean\n",
    "from mc_hammer.circular_cluster_generator import generate_data\n",
    "from mc_hammer.clustering_algorithms import k_means"
   ]
  },
  {
   "cell_type": "markdown",
   "metadata": {},
   "source": [
    "## Functions"
   ]
  },
  {
   "cell_type": "code",
   "execution_count": 4,
   "metadata": {},
   "outputs": [],
   "source": [
    "def gouss_dist(dim,seed_n):\n",
    "    seed(seed_n)\n",
    "    std = uniform(0.1,0.3)\n",
    "    null_arr = np.array([np.random.normal(1,std,100) for i in range(dim)])\n",
    "    return null_arr.T"
   ]
  },
  {
   "cell_type": "code",
   "execution_count": 5,
   "metadata": {},
   "outputs": [],
   "source": [
    "def get_centers(x,labs):\n",
    "    centers_list = []\n",
    "    for k in range(max(labs)+1):\n",
    "        one_clust = x[labs==k,:]\n",
    "        center = one_clust.mean(axis = 0)\n",
    "        centers_list.append(center)\n",
    "    cent_array = np.array(centers_list)\n",
    "    return cent_array"
   ]
  },
  {
   "cell_type": "code",
   "execution_count": 6,
   "metadata": {},
   "outputs": [],
   "source": [
    "def gauss_clust_generator(k,dimx,sep,n,se,noise):\n",
    "    noise_dim = int(round(dimx*noise))\n",
    "    inf_dim = dimx - noise_dim\n",
    "    x,labs = make_classification(\n",
    "        n_samples = n,\n",
    "        n_features = dimx,\n",
    "        n_informative = inf_dim,\n",
    "        n_redundant = noise_dim,\n",
    "        n_classes = k,\n",
    "        n_clusters_per_class = 1,\n",
    "        class_sep = sep,\n",
    "        random_state = se\n",
    "    ) \n",
    "    x = x/x.max()\n",
    "    centers = get_centers(x,labs)\n",
    "    return x,labs,centers"
   ]
  },
  {
   "cell_type": "code",
   "execution_count": 7,
   "metadata": {},
   "outputs": [],
   "source": [
    "def get_metrics_results(res_dicts,method,addit = None):\n",
    "    res_list = [] \n",
    "    for i in range(len(res_dicts['x'])):\n",
    "        x = res_dicts['x'][i]\n",
    "        labs = res_dicts['labs'][i]\n",
    "        centers = res_dicts['centers'][i]\n",
    "        if method in ['mean_all','mean_max_diam','max_diam','mean_center_dist','max_center_dist']:\n",
    "            res = eval(method + '(x,labs,centers)')\n",
    "        elif method in ['scatter','cvnn_sep','IGP', 'sillhouette_euclidean']:\n",
    "            res = eval(method + '(x,labs)')\n",
    "        elif method in ['dataset_midpoint_dist', 'dataset_meancenter_dist']:\n",
    "            res = eval(method + '(x,centers)')\n",
    "        else:\n",
    "            res = eval(method + '(x,centers,labs,addit)')\n",
    "        res_list.append(res)\n",
    "    return(res_list)"
   ]
  },
  {
   "cell_type": "code",
   "execution_count": 8,
   "metadata": {},
   "outputs": [],
   "source": [
    "def get_k(test_string):\n",
    "    test_2 = re.sub('.*k_','',test_string,)\n",
    "    k = int(re.sub('_.*','',test_2))\n",
    "    return k"
   ]
  },
  {
   "cell_type": "markdown",
   "metadata": {},
   "source": [
    "## Parameters"
   ]
  },
  {
   "cell_type": "code",
   "execution_count": 9,
   "metadata": {},
   "outputs": [],
   "source": [
    "clusters = [2,3,4]\n",
    "dim = [5,10,20]\n",
    "sep = [0.5,1,3]\n",
    "noise = [0,0.2,0.5]"
   ]
  },
  {
   "cell_type": "markdown",
   "metadata": {},
   "source": [
    "## Uniform Distribution"
   ]
  },
  {
   "cell_type": "code",
   "execution_count": 10,
   "metadata": {},
   "outputs": [],
   "source": [
    "uni_dis = {'uni_dis_dim_' +str(i):[np.random.rand(300,i) for j in range(100)] for i in dim}\n",
    "uni_dis = {k+ '_k_'+str(i):{\n",
    "    'x':v,\n",
    "    'labs':[k_means(j,i) for j in v]} for k,v in uni_dis.items() for i in clusters}\n",
    "uni_dis = {k:{\n",
    "    'x':v['x'],\n",
    "    'labs':[i[0] for i in v['labs']],\n",
    "    'centers':[j[1] for j in v['labs']]} for k,v in uni_dis.items()\n",
    "}"
   ]
  },
  {
   "cell_type": "markdown",
   "metadata": {},
   "source": [
    "## Gaussian Distribution"
   ]
  },
  {
   "cell_type": "code",
   "execution_count": 11,
   "metadata": {},
   "outputs": [],
   "source": [
    "gauss_dis = {'gauss_dis_dim_' +str(i):[np.random.rand(300,i) for j in range(100)] for i in dim}\n",
    "gauss_dis = {k+ '_k_'+str(i):{\n",
    "    'x':v,\n",
    "    'labs':[k_means(j,i) for j in v]} for k,v in gauss_dis.items() for i in clusters}\n",
    "gauss_dis = {k:{\n",
    "    'x':v['x'],\n",
    "    'labs':[i[0] for i in v['labs']],\n",
    "    'centers':[j[1] for j in v['labs']]} for k,v in gauss_dis.items()\n",
    "}"
   ]
  },
  {
   "cell_type": "markdown",
   "metadata": {},
   "source": [
    "## Circle Clusters"
   ]
  },
  {
   "cell_type": "code",
   "execution_count": 12,
   "metadata": {},
   "outputs": [],
   "source": [
    "circle_clust_equal = {'circ_clust_equal_dim_'+ str(j) + '_k_' +str(i) + '_sep_' + str(m) + '_noise_' +str(n):[generate_data(\n",
    "    k = i,\n",
    "    dimx = j,\n",
    "    sep = m,\n",
    "    n = int(round(300/i)),\n",
    "    sd =np.random.uniform(0.5,3),\n",
    "    se = y,\n",
    "    noise = n\n",
    ") for y in range(100)] for i in clusters for j in dim for m in sep for n in noise}\n",
    "\n",
    "circle_clust_equal = {k:{\n",
    "    'x':[i[0] for i in v],\n",
    "    'labs':[i[1] for i in v],\n",
    "    'centers':[i[2] for i in v]\n",
    "} for k,v in circle_clust_equal.items()}\n",
    "\n",
    "circle_clust_equal_km = {'km_' +k:{\n",
    "    'x':v['x'],\n",
    "    'labs':[k_means(i,get_k(k)) for i in v['x']]} for k,v in circle_clust_equal.items()\n",
    " }\n",
    "\n",
    "circle_clust_equal_km = {k:{\n",
    "    'x':v['x'],\n",
    "    'labs':[i[0] for i in v['labs']],\n",
    "    'centers':[j[1] for j in v['labs']]} for k,v in circle_clust_equal_km.items()\n",
    "}"
   ]
  },
  {
   "cell_type": "code",
   "execution_count": 13,
   "metadata": {},
   "outputs": [],
   "source": [
    "circle_clust_unequal = {'circ_clust_unequal_dim_'+ str(j) + '_k_' +str(i) + '_sep_' + str(m) + '_noise_' +str(n):[generate_data(\n",
    "    k = i,\n",
    "    dimx = j,\n",
    "    sep = m,\n",
    "    n = int(round(300/i)),\n",
    "    sd =[np.random.uniform(0.5,3)for i in range(i)],\n",
    "    se = y,\n",
    "    noise = n\n",
    ") for y in range(100)] for i in clusters for j in dim for m in sep for n in noise}\n",
    "\n",
    "circle_clust_unequal = {k:{\n",
    "    'x':[i[0] for i in v],\n",
    "    'labs':[i[1] for i in v],\n",
    "    'centers':[i[2] for i in v]\n",
    "} for k,v in circle_clust_unequal.items()}\n",
    "    \n",
    "circle_clust_unequal_km = {'km_' +k:{\n",
    "    'x':v['x'],\n",
    "    'labs':[k_means(i,get_k(k)) for i in v['x']]} for k,v in circle_clust_unequal.items()\n",
    " }\n",
    "circle_clust_unequal_km = {k:{\n",
    "    'x':v['x'],\n",
    "    'labs':[i[0] for i in v['labs']],\n",
    "    'centers':[j[1] for j in v['labs']]} for k,v in circle_clust_unequal_km.items()\n",
    "}"
   ]
  },
  {
   "cell_type": "markdown",
   "metadata": {},
   "source": [
    "## Gaussian Clusters"
   ]
  },
  {
   "cell_type": "code",
   "execution_count": 14,
   "metadata": {},
   "outputs": [],
   "source": [
    "gauss_clust = {'gauss_clust_dim_'+ str(i) + '_k_' +str(j) + '_sep_' + str(m) + '_noise_' +str(n):[gauss_clust_generator(\n",
    "    k = i,\n",
    "    dimx = j,\n",
    "    sep = m,\n",
    "    n = 300,\n",
    "    se = y,\n",
    "    noise = n\n",
    ") for y in range(100)] for i in clusters for j in dim for m in sep for n in noise}\n",
    "gauss_clust = {k:{\n",
    "    'x':[i[0] for i in v],\n",
    "    'labs':[i[1] for i in v],\n",
    "    'centers':[i[2] for i in v]\n",
    "} for k,v in gauss_clust.items()}"
   ]
  },
  {
   "cell_type": "markdown",
   "metadata": {},
   "source": [
    "## Combine Dicts"
   ]
  },
  {
   "cell_type": "code",
   "execution_count": 15,
   "metadata": {},
   "outputs": [],
   "source": [
    "full_dict = {**uni_dis,**gauss_dis,**circle_clust_equal,**circle_clust_equal_km,**circle_clust_unequal,**circle_clust_unequal_km,**gauss_clust}"
   ]
  },
  {
   "cell_type": "markdown",
   "metadata": {},
   "source": [
    "## Compactness"
   ]
  },
  {
   "cell_type": "code",
   "execution_count": 16,
   "metadata": {},
   "outputs": [],
   "source": [
    "compact_list = ['mean_center_dist','max_center_dist','max_diam','mean_max_diam','mean_all']\n",
    "comp_dict = {i:{k:get_metrics_results(v,i) for k,v in full_dict.items()} for i in compact_list}"
   ]
  },
  {
   "cell_type": "code",
   "execution_count": 17,
   "metadata": {},
   "outputs": [
    {
     "ename": "ValueError",
     "evalue": "max() arg is an empty sequence",
     "output_type": "error",
     "traceback": [
      "\u001B[1;31m---------------------------------------------------------------------------\u001B[0m",
      "\u001B[1;31mValueError\u001B[0m                                Traceback (most recent call last)",
      "\u001B[1;32m~\\AppData\\Local\\Temp/ipykernel_196/521840495.py\u001B[0m in \u001B[0;36m<module>\u001B[1;34m\u001B[0m\n\u001B[0;32m      1\u001B[0m \u001B[0mradial_list\u001B[0m \u001B[1;33m=\u001B[0m \u001B[1;33m[\u001B[0m\u001B[1;34m'single_cluster_max'\u001B[0m\u001B[1;33m,\u001B[0m\u001B[1;34m'single_cluster_mean'\u001B[0m\u001B[1;33m,\u001B[0m\u001B[1;34m'ratio'\u001B[0m\u001B[1;33m]\u001B[0m\u001B[1;33m\u001B[0m\u001B[1;33m\u001B[0m\u001B[0m\n\u001B[1;32m----> 2\u001B[1;33m \u001B[0mradial_dict\u001B[0m \u001B[1;33m=\u001B[0m \u001B[1;33m{\u001B[0m\u001B[1;34m'radial_density'\u001B[0m \u001B[1;33m+\u001B[0m\u001B[0mi\u001B[0m\u001B[1;33m:\u001B[0m\u001B[1;33m{\u001B[0m\u001B[0mk\u001B[0m\u001B[1;33m:\u001B[0m\u001B[0mget_metrics_results\u001B[0m\u001B[1;33m(\u001B[0m\u001B[0mv\u001B[0m\u001B[1;33m,\u001B[0m\u001B[1;34m'radial_density'\u001B[0m\u001B[1;33m,\u001B[0m\u001B[0mi\u001B[0m\u001B[1;33m)\u001B[0m \u001B[1;32mfor\u001B[0m \u001B[0mk\u001B[0m\u001B[1;33m,\u001B[0m\u001B[0mv\u001B[0m \u001B[1;32min\u001B[0m \u001B[0mfull_dict\u001B[0m\u001B[1;33m.\u001B[0m\u001B[0mitems\u001B[0m\u001B[1;33m(\u001B[0m\u001B[1;33m)\u001B[0m\u001B[1;33m}\u001B[0m \u001B[1;32mfor\u001B[0m \u001B[0mi\u001B[0m \u001B[1;32min\u001B[0m \u001B[0mradial_list\u001B[0m\u001B[1;33m}\u001B[0m\u001B[1;33m\u001B[0m\u001B[1;33m\u001B[0m\u001B[0m\n\u001B[0m",
      "\u001B[1;32m~\\AppData\\Local\\Temp/ipykernel_196/521840495.py\u001B[0m in \u001B[0;36m<dictcomp>\u001B[1;34m(.0)\u001B[0m\n\u001B[0;32m      1\u001B[0m \u001B[0mradial_list\u001B[0m \u001B[1;33m=\u001B[0m \u001B[1;33m[\u001B[0m\u001B[1;34m'single_cluster_max'\u001B[0m\u001B[1;33m,\u001B[0m\u001B[1;34m'single_cluster_mean'\u001B[0m\u001B[1;33m,\u001B[0m\u001B[1;34m'ratio'\u001B[0m\u001B[1;33m]\u001B[0m\u001B[1;33m\u001B[0m\u001B[1;33m\u001B[0m\u001B[0m\n\u001B[1;32m----> 2\u001B[1;33m \u001B[0mradial_dict\u001B[0m \u001B[1;33m=\u001B[0m \u001B[1;33m{\u001B[0m\u001B[1;34m'radial_density'\u001B[0m \u001B[1;33m+\u001B[0m\u001B[0mi\u001B[0m\u001B[1;33m:\u001B[0m\u001B[1;33m{\u001B[0m\u001B[0mk\u001B[0m\u001B[1;33m:\u001B[0m\u001B[0mget_metrics_results\u001B[0m\u001B[1;33m(\u001B[0m\u001B[0mv\u001B[0m\u001B[1;33m,\u001B[0m\u001B[1;34m'radial_density'\u001B[0m\u001B[1;33m,\u001B[0m\u001B[0mi\u001B[0m\u001B[1;33m)\u001B[0m \u001B[1;32mfor\u001B[0m \u001B[0mk\u001B[0m\u001B[1;33m,\u001B[0m\u001B[0mv\u001B[0m \u001B[1;32min\u001B[0m \u001B[0mfull_dict\u001B[0m\u001B[1;33m.\u001B[0m\u001B[0mitems\u001B[0m\u001B[1;33m(\u001B[0m\u001B[1;33m)\u001B[0m\u001B[1;33m}\u001B[0m \u001B[1;32mfor\u001B[0m \u001B[0mi\u001B[0m \u001B[1;32min\u001B[0m \u001B[0mradial_list\u001B[0m\u001B[1;33m}\u001B[0m\u001B[1;33m\u001B[0m\u001B[1;33m\u001B[0m\u001B[0m\n\u001B[0m",
      "\u001B[1;32m~\\AppData\\Local\\Temp/ipykernel_196/521840495.py\u001B[0m in \u001B[0;36m<dictcomp>\u001B[1;34m(.0)\u001B[0m\n\u001B[0;32m      1\u001B[0m \u001B[0mradial_list\u001B[0m \u001B[1;33m=\u001B[0m \u001B[1;33m[\u001B[0m\u001B[1;34m'single_cluster_max'\u001B[0m\u001B[1;33m,\u001B[0m\u001B[1;34m'single_cluster_mean'\u001B[0m\u001B[1;33m,\u001B[0m\u001B[1;34m'ratio'\u001B[0m\u001B[1;33m]\u001B[0m\u001B[1;33m\u001B[0m\u001B[1;33m\u001B[0m\u001B[0m\n\u001B[1;32m----> 2\u001B[1;33m \u001B[0mradial_dict\u001B[0m \u001B[1;33m=\u001B[0m \u001B[1;33m{\u001B[0m\u001B[1;34m'radial_density'\u001B[0m \u001B[1;33m+\u001B[0m\u001B[0mi\u001B[0m\u001B[1;33m:\u001B[0m\u001B[1;33m{\u001B[0m\u001B[0mk\u001B[0m\u001B[1;33m:\u001B[0m\u001B[0mget_metrics_results\u001B[0m\u001B[1;33m(\u001B[0m\u001B[0mv\u001B[0m\u001B[1;33m,\u001B[0m\u001B[1;34m'radial_density'\u001B[0m\u001B[1;33m,\u001B[0m\u001B[0mi\u001B[0m\u001B[1;33m)\u001B[0m \u001B[1;32mfor\u001B[0m \u001B[0mk\u001B[0m\u001B[1;33m,\u001B[0m\u001B[0mv\u001B[0m \u001B[1;32min\u001B[0m \u001B[0mfull_dict\u001B[0m\u001B[1;33m.\u001B[0m\u001B[0mitems\u001B[0m\u001B[1;33m(\u001B[0m\u001B[1;33m)\u001B[0m\u001B[1;33m}\u001B[0m \u001B[1;32mfor\u001B[0m \u001B[0mi\u001B[0m \u001B[1;32min\u001B[0m \u001B[0mradial_list\u001B[0m\u001B[1;33m}\u001B[0m\u001B[1;33m\u001B[0m\u001B[1;33m\u001B[0m\u001B[0m\n\u001B[0m",
      "\u001B[1;32m~\\AppData\\Local\\Temp/ipykernel_196/1578466233.py\u001B[0m in \u001B[0;36mget_metrics_results\u001B[1;34m(res_dicts, method, addit)\u001B[0m\n\u001B[0;32m     12\u001B[0m             \u001B[0mres\u001B[0m \u001B[1;33m=\u001B[0m \u001B[0meval\u001B[0m\u001B[1;33m(\u001B[0m\u001B[0mmethod\u001B[0m \u001B[1;33m+\u001B[0m \u001B[1;34m'(x,centers)'\u001B[0m\u001B[1;33m)\u001B[0m\u001B[1;33m\u001B[0m\u001B[1;33m\u001B[0m\u001B[0m\n\u001B[0;32m     13\u001B[0m         \u001B[1;32melse\u001B[0m\u001B[1;33m:\u001B[0m\u001B[1;33m\u001B[0m\u001B[1;33m\u001B[0m\u001B[0m\n\u001B[1;32m---> 14\u001B[1;33m             \u001B[0mres\u001B[0m \u001B[1;33m=\u001B[0m \u001B[0meval\u001B[0m\u001B[1;33m(\u001B[0m\u001B[0mmethod\u001B[0m \u001B[1;33m+\u001B[0m \u001B[1;34m'(x,centers,labs,addit)'\u001B[0m\u001B[1;33m)\u001B[0m\u001B[1;33m\u001B[0m\u001B[1;33m\u001B[0m\u001B[0m\n\u001B[0m\u001B[0;32m     15\u001B[0m         \u001B[0mres_list\u001B[0m\u001B[1;33m.\u001B[0m\u001B[0mappend\u001B[0m\u001B[1;33m(\u001B[0m\u001B[0mres\u001B[0m\u001B[1;33m)\u001B[0m\u001B[1;33m\u001B[0m\u001B[1;33m\u001B[0m\u001B[0m\n\u001B[0;32m     16\u001B[0m     \u001B[1;32mreturn\u001B[0m\u001B[1;33m(\u001B[0m\u001B[0mres_list\u001B[0m\u001B[1;33m)\u001B[0m\u001B[1;33m\u001B[0m\u001B[1;33m\u001B[0m\u001B[0m\n",
      "\u001B[1;32m<string>\u001B[0m in \u001B[0;36m<module>\u001B[1;34m\u001B[0m\n",
      "\u001B[1;32m~\\Documents\\mc-hammer\\mc_hammer\\cluster_measures.py\u001B[0m in \u001B[0;36mradial_density\u001B[1;34m(x, centers, labels, measure)\u001B[0m\n\u001B[0;32m    135\u001B[0m             \u001B[0mdens_list\u001B[0m \u001B[1;33m=\u001B[0m \u001B[1;33m[\u001B[0m\u001B[1;33m]\u001B[0m\u001B[1;33m\u001B[0m\u001B[1;33m\u001B[0m\u001B[0m\n\u001B[0;32m    136\u001B[0m             \u001B[1;32mfor\u001B[0m \u001B[0mi\u001B[0m \u001B[1;32min\u001B[0m \u001B[0mrange\u001B[0m\u001B[1;33m(\u001B[0m\u001B[0mmax\u001B[0m\u001B[1;33m(\u001B[0m\u001B[0mlabels\u001B[0m\u001B[1;33m)\u001B[0m \u001B[1;33m+\u001B[0m \u001B[1;36m1\u001B[0m\u001B[1;33m)\u001B[0m\u001B[1;33m:\u001B[0m\u001B[1;33m\u001B[0m\u001B[1;33m\u001B[0m\u001B[0m\n\u001B[1;32m--> 137\u001B[1;33m                 \u001B[0mmid_dense\u001B[0m \u001B[1;33m=\u001B[0m \u001B[0mmax\u001B[0m\u001B[1;33m(\u001B[0m\u001B[0mmid_point_dense\u001B[0m\u001B[1;33m[\u001B[0m\u001B[0mi\u001B[0m \u001B[1;33m*\u001B[0m \u001B[0mcn\u001B[0m\u001B[1;33m:\u001B[0m\u001B[1;33m(\u001B[0m\u001B[0mi\u001B[0m \u001B[1;33m+\u001B[0m \u001B[1;36m1\u001B[0m\u001B[1;33m)\u001B[0m \u001B[1;33m*\u001B[0m \u001B[0mcn\u001B[0m\u001B[1;33m]\u001B[0m\u001B[1;33m)\u001B[0m\u001B[1;33m\u001B[0m\u001B[1;33m\u001B[0m\u001B[0m\n\u001B[0m\u001B[0;32m    138\u001B[0m                 \u001B[0mdens_list\u001B[0m\u001B[1;33m.\u001B[0m\u001B[0mappend\u001B[0m\u001B[1;33m(\u001B[0m\u001B[1;33m(\u001B[0m\u001B[0mmid_dense\u001B[0m \u001B[1;33m/\u001B[0m \u001B[0mcenters_dense\u001B[0m\u001B[1;33m[\u001B[0m\u001B[0mi\u001B[0m\u001B[1;33m]\u001B[0m\u001B[1;33m)\u001B[0m\u001B[1;33m)\u001B[0m\u001B[1;33m\u001B[0m\u001B[1;33m\u001B[0m\u001B[0m\n\u001B[0;32m    139\u001B[0m             \u001B[1;32mreturn\u001B[0m \u001B[0msum\u001B[0m\u001B[1;33m(\u001B[0m\u001B[0mdens_list\u001B[0m\u001B[1;33m)\u001B[0m \u001B[1;33m/\u001B[0m \u001B[1;33m(\u001B[0m\u001B[0mk\u001B[0m \u001B[1;33m*\u001B[0m \u001B[0mcn\u001B[0m\u001B[1;33m)\u001B[0m\u001B[1;33m\u001B[0m\u001B[1;33m\u001B[0m\u001B[0m\n",
      "\u001B[1;31mValueError\u001B[0m: max() arg is an empty sequence"
     ]
    }
   ],
   "source": [
    "radial_list = ['single_cluster_max','single_cluster_mean','ratio']\n",
    "radial_dict = {'radial_density' +i:{k:get_metrics_results(v,'radial_density',i) for k,v in full_dict.items()} for i in radial_list}"
   ]
  },
  {
   "cell_type": "code",
   "execution_count": null,
   "metadata": {},
   "outputs": [],
   "source": [
    "comp_dict = {**comp_dict,**radial_dict}"
   ]
  },
  {
   "cell_type": "markdown",
   "metadata": {},
   "source": [
    "## Seperation  "
   ]
  },
  {
   "cell_type": "code",
   "execution_count": null,
   "metadata": {},
   "outputs": [],
   "source": [
    "seperation_list = ['cvnn_sep', 'scatter' ,'dataset_midpoint_dist', 'dataset_meancenter_dist']\n",
    "sep_dict = {i:{k:get_metrics_results(v,i) for k,v in full_dict.items()} for i in seperation_list}"
   ]
  },
  {
   "cell_type": "markdown",
   "metadata": {},
   "source": [
    "## Other"
   ]
  },
  {
   "cell_type": "code",
   "execution_count": null,
   "metadata": {},
   "outputs": [],
   "source": [
    "other_list = ['IGP', 'sillhouette_euclidean']\n",
    "other_dict = {i:{k:get_metrics_results(v,i) for k,v in full_dict.items()} for i in other_list}"
   ]
  },
  {
   "cell_type": "markdown",
   "metadata": {},
   "source": [
    "## testing"
   ]
  }
 ],
 "metadata": {
  "kernelspec": {
   "display_name": "Python 3 (ipykernel)",
   "language": "python",
   "name": "python3"
  },
  "language_info": {
   "codemirror_mode": {
    "name": "ipython",
    "version": 3
   },
   "file_extension": ".py",
   "mimetype": "text/x-python",
   "name": "python",
   "nbconvert_exporter": "python",
   "pygments_lexer": "ipython3",
   "version": "3.9.6"
  }
 },
 "nbformat": 4,
 "nbformat_minor": 1
}